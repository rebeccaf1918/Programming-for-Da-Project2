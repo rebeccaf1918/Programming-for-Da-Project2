{
 "cells": [
  {
   "cell_type": "markdown",
   "metadata": {},
   "source": [
    " Analyse CO2 vs Temperature Anomaly from 800kyrs – present.\n",
    "• Examine one other (paleo/modern) features (e.g. CH4 or polar ice-coverage)\n",
    "• Examine Irish context:\n",
    "o Climate change signals: (see Maynooth study: The emergence of a climate change \n",
    "signal in long-term Irish meteorological observations - ScienceDirect)\n",
    "• Fuse and analyse data from various data sources and format fused data set as a pandas \n",
    "dataframe and export to csv and json formats\n",
    "• For all of the above variables, analyse the data, the trends and the relationships between \n",
    "them (temporal leads/lags/frequency analysis).\n",
    "• Predict global temperature anomaly over next few decades (synthesise data) and compare to \n",
    "published climate models if atmospheric CO2 trends continue\n",
    "• Comment on accelerated warming based on very latest features (e.g. temperature/polar-ice\u0002coverage)\n"
   ]
  },
  {
   "cell_type": "code",
   "execution_count": null,
   "metadata": {},
   "outputs": [],
   "source": [
    "import numpy as np  \n",
    "import pandas as pd\n",
    "import csv\n",
    "\n"
   ]
  },
  {
   "cell_type": "markdown",
   "metadata": {},
   "source": [
    "## CO2 dataset\n",
    "\n",
    "This excel document contains data from 800k years in the past up to 2001. \n",
    "(Further adjustment to the data file will be completed later to include data up to 2022).\n",
    "\n",
    "This data includes updated data for CO2 composite with the removal of analytical bias per Bereiter et al 2015. It replaces the older version of the data from Luthi et al 2008.\n",
    "\n",
    "I have converted this excel file to a csv format so that it will be easier to use and all so all of the data will be in one uniform format.\n"
   ]
  },
  {
   "cell_type": "code",
   "execution_count": null,
   "metadata": {},
   "outputs": [],
   "source": [
    "# Read and store content of an excel file  \n",
    "IPCC1 = pd.read_excel (\"IPCCreport1.xlsx\", sheet_name='CO2 Composite') \n",
    "  \n",
    "# Writing the excel file into csv file \n",
    "IPCC1.to_csv (\"IPCC.csv\") \n",
    "    \n",
    "# read csv file and convert into a dataframe object \n",
    "IPCC = pd.read_csv(\"IPCC.csv\", skiprows=15, header=None) # skipping first 15 rows as they do not contain actual data\n",
    "\n",
    "IPCC = IPCC.iloc[:, 1:] # skipping first column as it just contains the row number; not actual data. The 1 specifies to skip column 0\n",
    "\n",
    "IPCC.columns = ['Gasage (yr BP)', 'CO2 (ppmv)', 'sigma mean CO2 (ppmv)'] # setting column titles\n",
    "\n",
    "IPCC.to_csv(\"IPCC.csv\", index=None) # saving the csv file back to the dataframe with the adjustments made\n"
   ]
  },
  {
   "cell_type": "code",
   "execution_count": null,
   "metadata": {},
   "outputs": [],
   "source": [
    "IPCC['Year'] = 1950 - IPCC['Gasage (yr BP)'] # to get year in actual values as it was measured in years since 1950\n",
    "IPCC = IPCC.sort_values('Year', ascending=True)\n",
    "IPCC = IPCC.iloc[:, 1: ] # removing first column as have year now calculated\n",
    "IPCC = IPCC.iloc[:, [0, 2]] # only want first and 3rd column \n",
    "IPCC.to_csv(\"IPCCCO2Data_Year.csv\", index=False) # adding year column "
   ]
  },
  {
   "cell_type": "markdown",
   "metadata": {},
   "source": [
    "# Mauna Loa CO2 data"
   ]
  },
  {
   "cell_type": "code",
   "execution_count": null,
   "metadata": {},
   "outputs": [],
   "source": [
    "MLC = pd.read_csv('MaunaLoaCO2.txt', skiprows=88, header=None, delim_whitespace=True, engine='python') \n",
    "#true showing that the data in the text file is separated by whitespace; skipping 86 rows as only want data for 2000 onwards\n",
    "MLC = MLC.iloc[:, :-1 ]\n",
    "MLC.columns = ['Year', 'Mean CO2']\n",
    "MLC.to_csv (r'MaunaLoaCO2.csv', index=None)\n",
    "\n",
    "\n",
    "col = MLC.pop('Year')\n",
    "MLC.insert(1, 'Year', col)\n",
    "\n",
    "MLC.to_csv('UpdatedMaunaLoaCO2.csv', index=0)\n"
   ]
  },
  {
   "cell_type": "code",
   "execution_count": null,
   "metadata": {},
   "outputs": [],
   "source": [
    "\n",
    "with open('IPCCCO2Data_Year.csv', 'a', newline='') as f1: # opening the file for appending\n",
    "    writer = csv.writer(f1)\n",
    "    with open('UpdatedMaunaLoaCO2.csv', 'r') as f2: # opening the file to write it to f1\n",
    "        reader = csv.reader(f2)\n",
    "        next(reader) # to skip column titles when appending\n",
    "        for row in reader:\n",
    "            writer.writerow(row)"
   ]
  },
  {
   "cell_type": "markdown",
   "metadata": {},
   "source": [
    "# Temperature data"
   ]
  },
  {
   "cell_type": "code",
   "execution_count": null,
   "metadata": {},
   "outputs": [],
   "source": [
    "columns = ['Bag', 'ztop','Age','Deuterium', 'Temperature Anomoly']\n",
    "\n",
    "data = pd.read_csv('EpicaTemp.txt', skiprows=92, delim_whitespace=True, names=columns, engine='python') \n",
    "#true showing that the data in the text file is separated by whitespace\n",
    "\n",
    "Epica = data[['Age', 'Temperature Anomoly']] # only want columns with Age and Temperature (other columns contain not applicable)\n",
    "\n",
    "Epica.to_csv (r'EpicaTemp.csv', index=None)\n"
   ]
  },
  {
   "cell_type": "code",
   "execution_count": null,
   "metadata": {},
   "outputs": [],
   "source": [
    "Epica['Year'] = 1950 - Epica['Age'] # to get year in actual values as it was measured in years since 1950\n",
    "Epica = Epica.iloc[:, 1: ]\n",
    "Epica.to_csv(\"EpicaTempData_Year.csv\", index=False)"
   ]
  },
  {
   "cell_type": "code",
   "execution_count": null,
   "metadata": {},
   "outputs": [],
   "source": [
    "\n",
    "MLT = pd.read_csv('MaunaLoaTemperature.txt', skiprows=88, header=None, delim_whitespace=True, engine='python') \n",
    "#true showing that the data in the text file is separated by whitespace; skipping 86 rows as only want data for 2000 onwards\n",
    "MLC = MLC.iloc[:, :-1 ]\n",
    "MLC.columns = ['Year', 'Mean CO2']\n",
    "MLC.to_csv (r'MaunaLoaCO2.csv', index=None)\n",
    "\n",
    "\n",
    "col = MLC.pop('Year')\n",
    "MLC.insert(1, 'Year', col)\n",
    "\n",
    "MLC.to_csv('UpdatedMaunaLoaCO2.csv', index=0)\n"
   ]
  },
  {
   "cell_type": "code",
   "execution_count": null,
   "metadata": {},
   "outputs": [],
   "source": [
    "Jouzel = pd.read_excel (\"JouzelTempData.xlsx\", usecols=[2,5]) \n",
    "\n",
    "# Write the dataframe object into csv file \n",
    "Jouzel.to_csv (\"JouzelTempData.csv\") \n",
    " \n",
    "# read csv file and convert into a dataframe object \n",
    "Jouzel = pd.read_csv(\"JouzelTempData.csv\") \n",
    "\n",
    "Jouzel.drop('Unnamed: 0', axis=1, inplace=True) # removing unwanted index\n",
    "#Jouzel = Jouzel.sort_values('EDC3béta', ascending=False)\n",
    "\n",
    "Jouzel.to_csv(\"JouzelTempData.csv\", index=False) # saving the csv file back to the dataframe with the adjustments made"
   ]
  },
  {
   "cell_type": "code",
   "execution_count": null,
   "metadata": {},
   "outputs": [],
   "source": [
    "\n",
    "Jouzel['Year'] = 1950 - Jouzel['EDC3béta'] # to get year in actual values as it was measured in years since 1950\n",
    "Jouzel = Jouzel.iloc[:, 1: ]\n",
    "Jouzel.to_csv(\"JouzelTempData_Year.csv\", index=False)"
   ]
  },
  {
   "cell_type": "code",
   "execution_count": null,
   "metadata": {},
   "outputs": [],
   "source": [
    "\n",
    "     \n",
    "\n",
    "with open('JouzelTempData.csv', 'a', newline=\"\") as file:\n",
    "   writer = csv.writer(file)    \n",
    "   writer.writerows(values)"
   ]
  },
  {
   "cell_type": "markdown",
   "metadata": {},
   "source": [
    "## Need to change Jouzel temps to temp anomolies and also change mauna loa data from celcius to kelvins"
   ]
  },
  {
   "cell_type": "code",
   "execution_count": null,
   "metadata": {},
   "outputs": [],
   "source": []
  },
  {
   "cell_type": "code",
   "execution_count": null,
   "metadata": {},
   "outputs": [],
   "source": []
  }
 ],
 "metadata": {
  "kernelspec": {
   "display_name": "base",
   "language": "python",
   "name": "python3"
  },
  "language_info": {
   "codemirror_mode": {
    "name": "ipython",
    "version": 3
   },
   "file_extension": ".py",
   "mimetype": "text/x-python",
   "name": "python",
   "nbconvert_exporter": "python",
   "pygments_lexer": "ipython3",
   "version": "3.11.5"
  }
 },
 "nbformat": 4,
 "nbformat_minor": 2
}

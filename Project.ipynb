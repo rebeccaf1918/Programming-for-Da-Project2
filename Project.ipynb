{
 "cells": [
  {
   "cell_type": "markdown",
   "metadata": {},
   "source": [
    " Analyse CO2 vs Temperature Anomaly from 800kyrs – present.\n",
    "• Examine one other (paleo/modern) features (e.g. CH4 or polar ice-coverage)\n",
    "• Examine Irish context:\n",
    "o Climate change signals: (see Maynooth study: The emergence of a climate change \n",
    "signal in long-term Irish meteorological observations - ScienceDirect)\n",
    "• Fuse and analyse data from various data sources and format fused data set as a pandas \n",
    "dataframe and export to csv and json formats\n",
    "• For all of the above variables, analyse the data, the trends and the relationships between \n",
    "them (temporal leads/lags/frequency analysis).\n",
    "• Predict global temperature anomaly over next few decades (synthesise data) and compare to \n",
    "published climate models if atmospheric CO2 trends continue\n",
    "• Comment on accelerated warming based on very latest features (e.g. temperature/polar-ice\u0002coverage)\n"
   ]
  },
  {
   "cell_type": "code",
   "execution_count": 140,
   "metadata": {},
   "outputs": [],
   "source": [
    "import numpy as np  \n",
    "import pandas as pd\n",
    "import csv\n",
    "\n"
   ]
  },
  {
   "cell_type": "code",
   "execution_count": 141,
   "metadata": {},
   "outputs": [],
   "source": [
    "# Read and store content of an excel file  \n",
    "IPCC1 = pd.read_excel (\"IPCCreport1.xlsx\", sheet_name='CO2 Composite') \n",
    "  \n",
    "# Write the dataframe object into csv file \n",
    "IPCC1.to_csv (\"IPCC.csv\") \n",
    "    \n",
    "# read csv file and convert into a dataframe object \n",
    "IPCC = pd.read_csv(\"IPCC.csv\", skiprows=15, header=None) # skipping first 15 rows as they do not contain actual data\n",
    "\n",
    "IPCC = IPCC.iloc[:, 1:] # skipping first column as it just contains the row number; not actual data. The 1 specifies to skip column 0\n",
    "\n",
    "IPCC.columns = ['Gasage (yr BP)', 'CO2 (ppmv)', 'sigma mean CO2 (ppmv)'] # setting column titles\n",
    "\n",
    "IPCC.to_csv(\"IPCC.csv\", index=None) # saving the csv file back to the dataframe with the adjustments made"
   ]
  },
  {
   "cell_type": "code",
   "execution_count": null,
   "metadata": {},
   "outputs": [],
   "source": [
    "\n"
   ]
  }
 ],
 "metadata": {
  "kernelspec": {
   "display_name": "base",
   "language": "python",
   "name": "python3"
  },
  "language_info": {
   "codemirror_mode": {
    "name": "ipython",
    "version": 3
   },
   "file_extension": ".py",
   "mimetype": "text/x-python",
   "name": "python",
   "nbconvert_exporter": "python",
   "pygments_lexer": "ipython3",
   "version": "3.11.5"
  }
 },
 "nbformat": 4,
 "nbformat_minor": 2
}

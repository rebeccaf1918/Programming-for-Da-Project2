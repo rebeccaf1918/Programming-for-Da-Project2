{
 "cells": [
  {
   "cell_type": "markdown",
   "metadata": {},
   "source": [
    " Analyse CO2 vs Temperature Anomaly from 800kyrs – present.\n",
    "• Examine one other (paleo/modern) features (e.g. CH4 or polar ice-coverage)\n",
    "• Examine Irish context:\n",
    "o Climate change signals: (see Maynooth study: The emergence of a climate change \n",
    "signal in long-term Irish meteorological observations - ScienceDirect)\n",
    "• Fuse and analyse data from various data sources and format fused data set as a pandas \n",
    "dataframe and export to csv and json formats\n",
    "• For all of the above variables, analyse the data, the trends and the relationships between \n",
    "them (temporal leads/lags/frequency analysis).\n",
    "• Predict global temperature anomaly over next few decades (synthesise data) and compare to \n",
    "published climate models if atmospheric CO2 trends continue\n",
    "• Comment on accelerated warming based on very latest features (e.g. temperature/polar-ice\u0002coverage)\n"
   ]
  },
  {
   "cell_type": "code",
   "execution_count": null,
   "metadata": {},
   "outputs": [],
   "source": [
    "import numpy as np  \n",
    "import pandas as pd\n",
    "import csv\n",
    "import matplotlib.pyplot as plt\n",
    "import seaborn as sea"
   ]
  },
  {
   "cell_type": "markdown",
   "metadata": {},
   "source": [
    "## CO2 dataset\n",
    "\n",
    "This excel document contains data from 800k years in the past up to 2001. \n",
    "(Further adjustment to the data file will be completed later to include data up to 2022).\n",
    "\n",
    "This data includes updated data for CO2 composite with the removal of analytical bias per Bereiter et al 2015. It replaces the older version of the data from Luthi et al 2008.\n",
    "\n",
    "I have converted this excel file to a csv format so that it will be easier to use and all so all of the data will be in one uniform format.\n"
   ]
  },
  {
   "cell_type": "code",
   "execution_count": null,
   "metadata": {},
   "outputs": [],
   "source": [
    "# Read and store content of an excel file  \n",
    "IPCC1 = pd.read_excel (\"IPCCreport1.xlsx\", sheet_name='CO2 Composite') \n",
    "  \n",
    "# Writing the excel file into csv file \n",
    "IPCC1.to_csv (\"IPCC.csv\") \n",
    "    \n",
    "# read csv file and convert into a dataframe object \n",
    "IPCC = pd.read_csv(\"IPCC.csv\", skiprows=15, header=None) # skipping first 15 rows as they do not contain actual data\n",
    "\n",
    "IPCC = IPCC.iloc[:, 1:] # skipping first column as it just contains the row number; not actual data. The 1 specifies to skip column 0\n",
    "\n",
    "IPCC.columns = ['Gasage (yr BP)', 'CO2 (ppmv)', 'sigma mean CO2 (ppmv)'] # setting column titles\n",
    "\n",
    "IPCC.to_csv(\"IPCC.csv\", index=None) # saving the csv file back to the dataframe with the adjustments made\n"
   ]
  },
  {
   "cell_type": "code",
   "execution_count": null,
   "metadata": {},
   "outputs": [],
   "source": [
    "IPCC['Year'] = 1950 - IPCC['Gasage (yr BP)'] # to get year in actual values as it was measured in years since 1950\n",
    "IPCC = IPCC.sort_values('Year', ascending=True)\n",
    "IPCC = IPCC.iloc[:, 1: ] # removing first column as have year now calculated\n",
    "IPCC = IPCC.iloc[:, [0, 2]] # only want first and 3rd column \n",
    "IPCC.to_csv(\"IPCCCO2Data_Year.csv\", index=False) # adding year column "
   ]
  },
  {
   "cell_type": "markdown",
   "metadata": {},
   "source": [
    "# Mauna Loa CO2 data"
   ]
  },
  {
   "cell_type": "code",
   "execution_count": null,
   "metadata": {},
   "outputs": [],
   "source": [
    "MLC = pd.read_csv('MaunaLoaCO2.txt', skiprows=88, header=None, delim_whitespace=True, engine='python') \n",
    "#true showing that the data in the text file is separated by whitespace; skipping 86 rows as only want data for 2000 onwards\n",
    "MLC = MLC.iloc[:, :-1 ]\n",
    "MLC.columns = ['Year', 'Mean CO2']\n",
    "MLC.to_csv (r'MaunaLoaCO2.csv', index=None)\n",
    "\n",
    "col = MLC.pop('Year')\n",
    "MLC.insert(1, 'Year', col)\n",
    "\n",
    "MLC.to_csv('UpdatedMaunaLoaCO2.csv', index=0)\n"
   ]
  },
  {
   "cell_type": "code",
   "execution_count": null,
   "metadata": {},
   "outputs": [],
   "source": [
    "\n",
    "with open('IPCCCO2Data_Year.csv', 'a', newline='') as f1: # opening the file for appending\n",
    "    writer = csv.writer(f1)\n",
    "    with open('UpdatedMaunaLoaCO2.csv', 'r') as f2: # opening the file to write it to f1\n",
    "        reader = csv.reader(f2)\n",
    "        next(reader) # to skip column titles when appending\n",
    "        for row in reader:\n",
    "            writer.writerow(row)\n",
    "\n",
    "combined_data = pd.read_csv('IPCCCO2Data_Year.csv')\n",
    "col = combined_data.pop('CO2 (ppmv)')\n",
    "combined_data.insert(1, 'CO2 (ppmv)', col)\n",
    "\n",
    "combined_data.to_csv('CombinedIPCCCO2Data_Year.csv', index=0)"
   ]
  },
  {
   "cell_type": "markdown",
   "metadata": {},
   "source": [
    "# Temperature data"
   ]
  },
  {
   "cell_type": "code",
   "execution_count": null,
   "metadata": {},
   "outputs": [],
   "source": [
    "columns = ['Bag', 'ztop','Age','Deuterium', 'Temperature Anomoly']\n",
    "\n",
    "data = pd.read_csv('EpicaTemp.txt', skiprows=92, delim_whitespace=True, names=columns, engine='python') \n",
    "#true showing that the data in the text file is separated by whitespace\n",
    "\n",
    "Epica = data[['Age', 'Temperature Anomoly']] # only want columns with Age and Temperature (other columns contain not applicable)\n",
    "\n",
    "Epica.to_csv (r'EpicaTemp.csv', index=None)\n"
   ]
  },
  {
   "cell_type": "code",
   "execution_count": null,
   "metadata": {},
   "outputs": [],
   "source": [
    "Epica['Year'] = 1950 - Epica['Age'] # to get year in actual values as it was measured in years since 1950\n",
    "Epica = Epica.iloc[:, 1: ]\n",
    "Epica.to_csv(\"EpicaTempData_Year.csv\", index=False)"
   ]
  },
  {
   "cell_type": "code",
   "execution_count": null,
   "metadata": {},
   "outputs": [],
   "source": [
    "#Mauna Loa temps  - not exactly from Mauna Loa but an approximate location\n",
    "MLT = pd.read_csv('HawaiiTemp.txt', delim_whitespace=True, engine='python') \n",
    "#true showing that the data in the text file is separated by whitespace\n",
    "MLT.columns = ['Year', 'Average Annual Temperature (in degrees Celcius)']\n",
    "MLT.to_csv (r'HawaiiTemp.csv', index=None)\n",
    "\n",
    "MLT.to_csv('UpdatedHawaiiTemp.csv', index=0)\n"
   ]
  },
  {
   "cell_type": "code",
   "execution_count": null,
   "metadata": {},
   "outputs": [],
   "source": [
    "Jouzel = pd.read_excel (\"JouzelTempData.xlsx\", usecols=[2,5]) \n",
    "\n",
    "# Write the dataframe object into csv file \n",
    "Jouzel.to_csv (\"JouzelTempData.csv\") \n",
    " \n",
    "# read csv file and convert into a dataframe object \n",
    "Jouzel = pd.read_csv(\"JouzelTempData.csv\") \n",
    "\n",
    "Jouzel.drop('Unnamed: 0', axis=1, inplace=True) # removing unwanted index\n",
    "#Jouzel = Jouzel.sort_values('EDC3béta', ascending=False)\n",
    "\n",
    "Jouzel.to_csv(\"JouzelTempData.csv\", index=False) # saving the csv file back to the dataframe with the adjustments made"
   ]
  },
  {
   "cell_type": "code",
   "execution_count": null,
   "metadata": {},
   "outputs": [],
   "source": [
    "\n",
    "Jouzel['Year(for Temp)'] = 1950 - Jouzel['EDC3béta'] # to get year in actual values as it was measured in years since 1950\n",
    "Jouzel = Jouzel.iloc[:, 1: ]\n",
    "Jouzel.to_csv(\"JouzelTempData_Year.csv\", index=False)"
   ]
  },
  {
   "cell_type": "code",
   "execution_count": null,
   "metadata": {},
   "outputs": [],
   "source": [
    "df = pd.read_csv('JouzelTempData_Year.csv')\n",
    "\n",
    "column = 'temp'\n",
    "df['celsius'] = df['temp'] - 273.15 # change from kelvin to celcius\n",
    "\n",
    "average = df['celsius'][0:87].mean()\n",
    "#The temperature anomaly in celsius is calculated.\n",
    "\n",
    "df['anomaly'] = df['celsius'] - average # calculating the temp anomoly for each year\n",
    "\n",
    "print(f'The average of the column {column} is {average}')\n",
    "\n",
    "df.to_csv('Jouzel_with_anomalies.csv', index=False)\n"
   ]
  },
  {
   "cell_type": "code",
   "execution_count": null,
   "metadata": {},
   "outputs": [],
   "source": [
    "from csv import writer\n",
    "#adding data for 2005 and 2011; this was the most recent temperature data I could source\n",
    "# I have not added general global temperatures as these will differ from the Dome C temps which is one of the coldest places\n",
    "# on earth\n",
    "#Thus, using the normal global average will show a sudden shift in the most recent data and unduly alter the trend\n",
    "\n",
    "# List containing the row data\n",
    "row = ['Na', '2005', '-54.741', '0.29' ]\n",
    "\n",
    "row2 = ['Na', '2011', '-52.463', '1.48']\n",
    "\n",
    "# Open the CSV file in append mode\n",
    "with open('Jouzel_with_anomalies.csv', 'a') as f_object:\n",
    "    # Create a writer object\n",
    "    writer_object = writer(f_object)\n",
    "    # Add the row to the CSV file\n",
    "    writer_object.writerow(row)\n",
    "    writer_object.writerow(row2)"
   ]
  },
  {
   "cell_type": "code",
   "execution_count": null,
   "metadata": {},
   "outputs": [],
   "source": [
    "JouzelAnomalies = pd.read_csv('Jouzel_with_anomalies.csv')\n",
    "JouzelAnomalies = JouzelAnomalies.sort_values('Year(for Temp)', ascending=True)\n",
    "\n",
    "JouzelAnomalies.to_csv('Jouzel_anomalies_updated.csv', index=False)\n"
   ]
  },
  {
   "cell_type": "code",
   "execution_count": null,
   "metadata": {},
   "outputs": [],
   "source": [
    "# newline is set to '' so that there is no space between the rows in the output csv\n",
    "with open('CombinedIPCCCO2Data_Year.csv', 'r') as t1, open('Jouzel_anomalies_updated.csv', 'r') as t2, open('Combination.csv', 'w', newline='') as output:\n",
    "     r1 = csv.reader(t1, delimiter=',')  # delimiter is so the output is separated by commas\n",
    "     r2 = csv.reader(t2, delimiter=',')\n",
    "     w = csv.writer(output, delimiter=',')\n",
    "     for a, b in zip(r1, r2):\n",
    "             w.writerow(a + b)\n",
    "\n",
    "# above is adapted from https://stackoverflow.com/questions/45133919/merging-two-csv-files-together-side-by-side"
   ]
  },
  {
   "cell_type": "markdown",
   "metadata": {},
   "source": [
    "# CO2 plotting"
   ]
  },
  {
   "cell_type": "code",
   "execution_count": null,
   "metadata": {},
   "outputs": [],
   "source": [
    "CombinedData = pd.read_csv('Combination.csv')\n",
    "fig, ax = plt.subplots(figsize=(15, 10 ))\n",
    "\n",
    "ax.plot(CombinedData['Year'], CombinedData['CO2 (ppmv)'])\n",
    "ax.set_xlabel('Year')\n",
    "ax.set_ylabel('CO2')\n",
    "\n",
    "ax.set_title('Co2', weight ='bold', size=15)\n",
    "plt.show()"
   ]
  },
  {
   "cell_type": "code",
   "execution_count": null,
   "metadata": {},
   "outputs": [],
   "source": [
    "fig, ax = plt.subplots(figsize=(14,9))\n",
    "\n",
    "ax.hist(CombinedData['CO2 (ppmv)'])\n",
    "ax.set_xlabel('co2 ppmv')\n",
    "ax.set_ylabel('Count')\n",
    "ax.set_title('IPCC CO2 Data Histogram', weight = 'bold', size = 15)\n",
    "plt.tight_layout()\n",
    "plt.show()"
   ]
  },
  {
   "cell_type": "markdown",
   "metadata": {},
   "source": [
    "# Temperature Plotting"
   ]
  },
  {
   "cell_type": "code",
   "execution_count": null,
   "metadata": {},
   "outputs": [],
   "source": [
    "CombinedData = pd.read_csv('Combination.csv')\n",
    "fig, ax = plt.subplots(figsize=(15, 10))\n",
    "\n",
    "ax.plot(CombinedData['Year(for Temp)'], CombinedData['anomaly'])\n",
    "ax.set_xlabel('Year (for Temp)')\n",
    "ax.set_ylabel('Temperature Anomaly Degrees Celsius')\n",
    "\n",
    "ax.set_title('Temp', weight ='bold', size=15)\n",
    "plt.show()"
   ]
  },
  {
   "cell_type": "code",
   "execution_count": null,
   "metadata": {},
   "outputs": [],
   "source": [
    "fig, ax = plt.subplots(figsize=(14,9))\n",
    "\n",
    "ax.hist(CombinedData['anomaly'])\n",
    "ax.set_xlabel('Degrees Celsius')\n",
    "ax.set_ylabel('Count')\n",
    "ax.set_title('Temperature Anomaly over 800k Years per Ice cores', weight = 'bold', size = 15)\n",
    "plt.tight_layout()\n",
    "plt.show()"
   ]
  },
  {
   "cell_type": "markdown",
   "metadata": {},
   "source": [
    "# FIX\n",
    "fig, ax = plt.subplots(figsize=(14, 9))\n",
    "\n",
    "ax.plot(CombinedData['Year(for Temp)'], CombinedData['anomaly'], label = 'Temperature anomaly by year')\n",
    "ax.plot(CombinedData['CO2 (ppmv)'], label = 'CO2 by year', color = 'black')\n",
    "ax.set_xlabel('Years Before 2023')\n",
    "ax.set_ylabel('Temperature Degrees Celsius')\n",
    "plt.suptitle('800k Years of CO2 vs Temperature Anomaly', weight = 'bold', size = 15)\n",
    "plt.tight_layout()\n",
    "plt.show()"
   ]
  },
  {
   "cell_type": "code",
   "execution_count": null,
   "metadata": {},
   "outputs": [],
   "source": [
    "fig, ax = plt.subplots(figsize=(12,12))\n",
    "sea.lineplot(x=\"Year\", y=\"CO2 (ppmv)\", data=CombinedData, color=\"b\", label=\"CO2\")\n",
    "ax2 = plt.twinx()\n",
    "sea.lineplot(x=\"Year\", y=\"anomaly\", data=CombinedData, color=\"g\", ax=ax2, label=\"Temp\")\n",
    "plt.title(\"CO₂ and Temperature over 800k Years\")\n",
    "plt.legend(loc='upper center')"
   ]
  },
  {
   "cell_type": "code",
   "execution_count": null,
   "metadata": {},
   "outputs": [],
   "source": [
    "import matplotlib.pyplot as plt\n",
    "import pandas as pd\n",
    "\n",
    "CombinedData = pd.read_csv('Combination.csv')\n",
    "\n",
    "# Creating an empty plot for the data\n",
    "fig, axs = plt.subplots(2, figsize=(14, 9))\n",
    "\n",
    "# Plotting the CO2 levels over the years on one axis\n",
    "axs[0].plot(CombinedData['Year'], CombinedData['CO2 (ppmv)'])\n",
    "axs[0].set_xlabel('Year')\n",
    "axs[0].set_ylabel('CO2')\n",
    "axs[0].set_title('Co2', weight ='bold', size=13)\n",
    "\n",
    "# Plotting the temperature anomalies over the years on the second axis\n",
    "axs[1].plot(CombinedData['Year(for Temp)'], CombinedData['anomaly'])\n",
    "axs[1].set_xlabel('Year (for Temp)')\n",
    "axs[1].set_ylabel('Temperature Anomaly ((C))')\n",
    "axs[1].set_title('Temp', weight ='bold', size=13)\n",
    "\n",
    "plt.tight_layout()\n",
    "plt.show()\n"
   ]
  },
  {
   "cell_type": "markdown",
   "metadata": {},
   "source": [
    "## Methane data (3rd variable)"
   ]
  },
  {
   "cell_type": "markdown",
   "metadata": {},
   "source": [
    "Column 1: EDC1999 depth (m)\n",
    "Column 2: Gas Age (EDC3 gas age, years before 1950 AD)\n",
    "Column 3: CH4 mean (ppbv)\n",
    "Column 4: 1-sigma uncertainty (ppbv)\n",
    "Column 5: Laboratory (b=Bern, g=Grenoble)"
   ]
  },
  {
   "cell_type": "code",
   "execution_count": null,
   "metadata": {},
   "outputs": [],
   "source": [
    "data = pd.read_csv('Methanedatato1937.txt', skiprows=154, header=None, delim_whitespace=True, engine='python') \n",
    "#true showing that the data in the text file is separated by whitespace\n",
    "\n",
    "data.columns = ['Depth', 'Gas Age', 'CH4 Mean', '1s', 'lab']\n",
    "\n",
    "data.to_csv (r'Methanedatato1937.csv', index=None)\n"
   ]
  },
  {
   "cell_type": "code",
   "execution_count": null,
   "metadata": {},
   "outputs": [],
   "source": [
    "Methane1937 = pd.read_csv('Methanedatato1937.csv')\n",
    "\n",
    "Methane1937['Year'] = 1950 - Methane1937['Gas Age'] # to get year in actual values as it was measured in years since 1950\n",
    "\n",
    "Methane1937 = Methane1937.sort_values('Year', ascending=True)\n",
    "\n",
    "Methane1937 = Methane1937.iloc[:, [2, 5]] # only want 3rd and 6th column (it is 0 indexed so starts counting at 0)\n",
    "\n",
    "col = Methane1937.pop('Year')\n",
    "Methane1937.insert(0, 'Year', col) # move year to first column\n",
    "Methane1937.to_csv(\"Methane_year.csv\", index=False) "
   ]
  },
  {
   "cell_type": "code",
   "execution_count": null,
   "metadata": {},
   "outputs": [],
   "source": [
    "Methane1980 = pd.read_csv('Methanedatato1980.txt', engine='python') \n",
    "#true showing that the data in the text file is separated by whitespace\n",
    "\n",
    "Methane1980.to_csv (r'Methanedatato1980.csv', index=None)\n"
   ]
  },
  {
   "cell_type": "code",
   "execution_count": null,
   "metadata": {},
   "outputs": [],
   "source": [
    "with open('Methane_year.csv', 'a', newline='') as f1: # opening the file for appending\n",
    "    writer = csv.writer(f1)\n",
    "    with open('Methanedatato1980.csv', 'r') as f2: # opening the file to write it to f1\n",
    "        reader = csv.reader(f2)\n",
    "        next(reader) # to skip column titles when appending\n",
    "        for row in reader:\n",
    "            writer.writerow(row)"
   ]
  },
  {
   "cell_type": "code",
   "execution_count": null,
   "metadata": {},
   "outputs": [],
   "source": [
    "upto2022Methane = pd.read_csv('Methanedatato2022.txt', skiprows=45, engine='python', sep='\\s+') \n",
    "#sep is used to show that txt file is separated by spaces instead of comma so csv recognises correct columns\n",
    "\n",
    "upto2022Methane = upto2022Methane.iloc[:, :-1 ]\n",
    "upto2022Methane.to_csv (r'Methanedatato2022.csv', index=None)\n"
   ]
  },
  {
   "cell_type": "code",
   "execution_count": null,
   "metadata": {},
   "outputs": [],
   "source": [
    "\n",
    "with open('Methane_year.csv', 'a', newline='') as f1: # opening the file for appending\n",
    "    writer = csv.writer(f1)\n",
    "    with open('Methanedatato2022.csv', 'r') as f2: # opening the file to write it to f1\n",
    "        reader = csv.reader(f2)\n",
    "        next(reader) # to skip column titles when appending\n",
    "        for row in reader:\n",
    "            writer.writerow(row)\n",
    "# all the methane data is now included in one csv file called Methane_year.csv"
   ]
  },
  {
   "cell_type": "code",
   "execution_count": null,
   "metadata": {},
   "outputs": [],
   "source": [
    "CombinedMethane = pd.read_csv('Methane_year.csv')\n",
    "fig, ax = plt.subplots(figsize=(14, 9))\n",
    "\n",
    "ax.plot(CombinedMethane['Year'], CombinedMethane['CH4 Mean'])\n",
    "\n",
    "ax.set_xlabel('Years Prior to 2023')\n",
    "ax.set_ylabel('CH4 Mean')\n",
    "plt.suptitle('800k Years of Methane Trend', weight = 'bold', size = 15)\n",
    "plt.tight_layout()\n",
    "plt.show()"
   ]
  }
 ],
 "metadata": {
  "kernelspec": {
   "display_name": "base",
   "language": "python",
   "name": "python3"
  },
  "language_info": {
   "codemirror_mode": {
    "name": "ipython",
    "version": 3
   },
   "file_extension": ".py",
   "mimetype": "text/x-python",
   "name": "python",
   "nbconvert_exporter": "python",
   "pygments_lexer": "ipython3",
   "version": "3.11.5"
  }
 },
 "nbformat": 4,
 "nbformat_minor": 2
}

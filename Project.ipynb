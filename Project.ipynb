{
 "cells": [
  {
   "cell_type": "markdown",
   "metadata": {},
   "source": [
    " Analyse CO2 vs Temperature Anomaly from 800kyrs – present.\n",
    "• Examine one other (paleo/modern) features (e.g. CH4 or polar ice-coverage)\n",
    "• Examine Irish context:\n",
    "o Climate change signals: (see Maynooth study: The emergence of a climate change \n",
    "signal in long-term Irish meteorological observations - ScienceDirect)\n",
    "• Fuse and analyse data from various data sources and format fused data set as a pandas \n",
    "dataframe and export to csv and json formats\n",
    "• For all of the above variables, analyse the data, the trends and the relationships between \n",
    "them (temporal leads/lags/frequency analysis).\n",
    "• Predict global temperature anomaly over next few decades (synthesise data) and compare to \n",
    "published climate models if atmospheric CO2 trends continue\n",
    "• Comment on accelerated warming based on very latest features (e.g. temperature/polar-ice\u0002coverage)\n"
   ]
  },
  {
   "cell_type": "code",
   "execution_count": 449,
   "metadata": {},
   "outputs": [],
   "source": [
    "import numpy as np  \n",
    "import pandas as pd\n",
    "import csv\n",
    "\n"
   ]
  },
  {
   "cell_type": "markdown",
   "metadata": {},
   "source": [
    "## CO2 dataset\n",
    "\n",
    "This excel document contains data from 800k years in the past up to 2001. \n",
    "(Further adjustment to the data file will be completed later to include data up to 2022).\n",
    "\n",
    "This data includes updated data for CO2 composite with the removal of analytical bias per Bereiter et al 2015. It replaces the older version of the data from Luthi et al 2008.\n",
    "\n",
    "I have converted this excel file to a csv format so that it will be easier to use and all so all of the data will be in one uniform format.\n"
   ]
  },
  {
   "cell_type": "code",
   "execution_count": 450,
   "metadata": {},
   "outputs": [],
   "source": [
    "# Read and store content of an excel file  \n",
    "IPCC1 = pd.read_excel (\"IPCCreport1.xlsx\", sheet_name='CO2 Composite') \n",
    "  \n",
    "# Write the dataframe object into csv file \n",
    "IPCC1.to_csv (\"IPCC.csv\") \n",
    "    \n",
    "# read csv file and convert into a dataframe object \n",
    "IPCC = pd.read_csv(\"IPCC.csv\", skiprows=15, header=None) # skipping first 15 rows as they do not contain actual data\n",
    "\n",
    "IPCC = IPCC.iloc[:, 1:] # skipping first column as it just contains the row number; not actual data. The 1 specifies to skip column 0\n",
    "\n",
    "IPCC.columns = ['Gasage (yr BP)', 'CO2 (ppmv)', 'sigma mean CO2 (ppmv)'] # setting column titles\n",
    "\n",
    "IPCC.to_csv(\"IPCC.csv\", index=None) # saving the csv file back to the dataframe with the adjustments made\n",
    "\n",
    "#IPCC['Gasage(yr BP)'] = 1950 - IPCC['Gasage (yr BP)']\n"
   ]
  },
  {
   "cell_type": "markdown",
   "metadata": {},
   "source": [
    "# Mauna Loa CO2 data"
   ]
  },
  {
   "cell_type": "code",
   "execution_count": 451,
   "metadata": {},
   "outputs": [],
   "source": [
    "MLC = pd.read_csv('MaunaLoaCO2.txt', skiprows=45, header=None, delim_whitespace=True, engine='python') \n",
    "#true showing that the data in the text file is separated by whitespace\n",
    "MLC = MLC.iloc[:, :-1 ]\n",
    "MLC.columns = ['Year', 'Mean CO2']\n",
    "\n",
    "MLC.to_csv (r'MaunaLoaCO2.csv', index=None)\n",
    "\n"
   ]
  },
  {
   "cell_type": "markdown",
   "metadata": {},
   "source": [
    "# Temperature data"
   ]
  },
  {
   "cell_type": "code",
   "execution_count": 452,
   "metadata": {},
   "outputs": [
    {
     "data": {
      "text/html": [
       "<div>\n",
       "<style scoped>\n",
       "    .dataframe tbody tr th:only-of-type {\n",
       "        vertical-align: middle;\n",
       "    }\n",
       "\n",
       "    .dataframe tbody tr th {\n",
       "        vertical-align: top;\n",
       "    }\n",
       "\n",
       "    .dataframe thead th {\n",
       "        text-align: right;\n",
       "    }\n",
       "</style>\n",
       "<table border=\"1\" class=\"dataframe\">\n",
       "  <thead>\n",
       "    <tr style=\"text-align: right;\">\n",
       "      <th></th>\n",
       "      <th>Bag</th>\n",
       "      <th>ztop</th>\n",
       "      <th>Age</th>\n",
       "      <th>Deuterium</th>\n",
       "      <th>Temperature</th>\n",
       "    </tr>\n",
       "  </thead>\n",
       "  <tbody>\n",
       "    <tr>\n",
       "      <th>0</th>\n",
       "      <td>1</td>\n",
       "      <td>0.00</td>\n",
       "      <td>-50.00000</td>\n",
       "      <td>NaN</td>\n",
       "      <td>NaN</td>\n",
       "    </tr>\n",
       "    <tr>\n",
       "      <th>1</th>\n",
       "      <td>2</td>\n",
       "      <td>0.55</td>\n",
       "      <td>-43.54769</td>\n",
       "      <td>NaN</td>\n",
       "      <td>NaN</td>\n",
       "    </tr>\n",
       "    <tr>\n",
       "      <th>2</th>\n",
       "      <td>3</td>\n",
       "      <td>1.10</td>\n",
       "      <td>-37.41829</td>\n",
       "      <td>NaN</td>\n",
       "      <td>NaN</td>\n",
       "    </tr>\n",
       "    <tr>\n",
       "      <th>3</th>\n",
       "      <td>4</td>\n",
       "      <td>1.65</td>\n",
       "      <td>-31.61153</td>\n",
       "      <td>NaN</td>\n",
       "      <td>NaN</td>\n",
       "    </tr>\n",
       "    <tr>\n",
       "      <th>4</th>\n",
       "      <td>5</td>\n",
       "      <td>2.20</td>\n",
       "      <td>-24.51395</td>\n",
       "      <td>NaN</td>\n",
       "      <td>NaN</td>\n",
       "    </tr>\n",
       "    <tr>\n",
       "      <th>...</th>\n",
       "      <td>...</td>\n",
       "      <td>...</td>\n",
       "      <td>...</td>\n",
       "      <td>...</td>\n",
       "      <td>...</td>\n",
       "    </tr>\n",
       "    <tr>\n",
       "      <th>5795</th>\n",
       "      <td>5796</td>\n",
       "      <td>3187.25</td>\n",
       "      <td>797408.00000</td>\n",
       "      <td>-440.20</td>\n",
       "      <td>-8.73</td>\n",
       "    </tr>\n",
       "    <tr>\n",
       "      <th>5796</th>\n",
       "      <td>5797</td>\n",
       "      <td>3187.80</td>\n",
       "      <td>798443.00000</td>\n",
       "      <td>-439.00</td>\n",
       "      <td>-8.54</td>\n",
       "    </tr>\n",
       "    <tr>\n",
       "      <th>5797</th>\n",
       "      <td>5798</td>\n",
       "      <td>3188.35</td>\n",
       "      <td>799501.00000</td>\n",
       "      <td>-441.10</td>\n",
       "      <td>-8.88</td>\n",
       "    </tr>\n",
       "    <tr>\n",
       "      <th>5798</th>\n",
       "      <td>5799</td>\n",
       "      <td>3188.90</td>\n",
       "      <td>800589.00000</td>\n",
       "      <td>-441.42</td>\n",
       "      <td>-8.92</td>\n",
       "    </tr>\n",
       "    <tr>\n",
       "      <th>5799</th>\n",
       "      <td>5800</td>\n",
       "      <td>3189.45</td>\n",
       "      <td>801662.00000</td>\n",
       "      <td>-440.90</td>\n",
       "      <td>-8.82</td>\n",
       "    </tr>\n",
       "  </tbody>\n",
       "</table>\n",
       "<p>5800 rows × 5 columns</p>\n",
       "</div>"
      ],
      "text/plain": [
       "       Bag     ztop           Age  Deuterium  Temperature\n",
       "0        1     0.00     -50.00000        NaN          NaN\n",
       "1        2     0.55     -43.54769        NaN          NaN\n",
       "2        3     1.10     -37.41829        NaN          NaN\n",
       "3        4     1.65     -31.61153        NaN          NaN\n",
       "4        5     2.20     -24.51395        NaN          NaN\n",
       "...    ...      ...           ...        ...          ...\n",
       "5795  5796  3187.25  797408.00000    -440.20        -8.73\n",
       "5796  5797  3187.80  798443.00000    -439.00        -8.54\n",
       "5797  5798  3188.35  799501.00000    -441.10        -8.88\n",
       "5798  5799  3188.90  800589.00000    -441.42        -8.92\n",
       "5799  5800  3189.45  801662.00000    -440.90        -8.82\n",
       "\n",
       "[5800 rows x 5 columns]"
      ]
     },
     "metadata": {},
     "output_type": "display_data"
    }
   ],
   "source": [
    "columns = ['Bag', 'ztop','Age','Deuterium', 'Temperature']\n",
    "\n",
    "data = pd.read_csv('EpicaTemp.txt', skiprows=92, delim_whitespace=True, names=columns, engine='python') \n",
    "#true showing that the data in the text file is separated by whitespace\n",
    "\n",
    "display(data)\n",
    "\n",
    "df = data[['Age', 'Temperature']] # only want columns with Age and Temperature (other columns contain not applicable)\n",
    "\n",
    "df.to_csv (r'EpicaTemp.csv', index=None)\n",
    "\n"
   ]
  },
  {
   "cell_type": "code",
   "execution_count": 453,
   "metadata": {},
   "outputs": [],
   "source": [
    "Jouzel = pd.read_excel (\"JouzelTempData.xlsx\", usecols=[2,5]) \n",
    "\n",
    "# Write the dataframe object into csv file \n",
    "Jouzel.to_csv (\"JouzelTempData.csv\") \n",
    " \n",
    "# read csv file and convert into a dataframe object \n",
    "Jouzel = pd.read_csv(\"JouzelTempData.csv\") \n",
    "\n",
    "Jouzel.drop('Unnamed: 0', axis=1, inplace=True) # removing unwanted index\n",
    "#Jouzel = Jouzel.sort_values('EDC3béta', ascending=False)\n",
    "\n",
    "Jouzel.to_csv(\"JouzelTempData.csv\", index=False) # saving the csv file back to the dataframe with the adjustments made\n",
    "\n",
    "Jouzel['Year'] = 1950 - Jouzel['EDC3béta'] # to get year in actual values as it was measured in years since 1950\n",
    "\n",
    "Jouzel.to_csv(\"JouzelTempData_Year.csv\", index=False)"
   ]
  },
  {
   "cell_type": "code",
   "execution_count": null,
   "metadata": {},
   "outputs": [],
   "source": []
  },
  {
   "cell_type": "code",
   "execution_count": 454,
   "metadata": {},
   "outputs": [
    {
     "ename": "SyntaxError",
     "evalue": "invalid syntax (2327521878.py, line 7)",
     "output_type": "error",
     "traceback": [
      "\u001b[1;36m  Cell \u001b[1;32mIn[454], line 7\u001b[1;36m\u001b[0m\n\u001b[1;33m    MaunaLoaTemp =\u001b[0m\n\u001b[1;37m                   ^\u001b[0m\n\u001b[1;31mSyntaxError\u001b[0m\u001b[1;31m:\u001b[0m invalid syntax\n"
     ]
    }
   ],
   "source": [
    "\n",
    " \n",
    "# Below are the years and the values taken from Dome C II - \n",
    "# Converted from celcius to Degrees Kelvin from intermittent years from \n",
    "\n",
    "\n",
    "MaunaLoaTemp = \n",
    "     \n",
    "\n",
    "with open('JouzelTempData.csv', 'a', newline=\"\") as file:\n",
    "   writer = csv.writer(file)    \n",
    "   writer.writerows(values)"
   ]
  },
  {
   "cell_type": "markdown",
   "metadata": {},
   "source": [
    "merge mauna loa for temperature and co2 to get most recent year"
   ]
  }
 ],
 "metadata": {
  "kernelspec": {
   "display_name": "base",
   "language": "python",
   "name": "python3"
  },
  "language_info": {
   "codemirror_mode": {
    "name": "ipython",
    "version": 3
   },
   "file_extension": ".py",
   "mimetype": "text/x-python",
   "name": "python",
   "nbconvert_exporter": "python",
   "pygments_lexer": "ipython3",
   "version": "3.11.5"
  }
 },
 "nbformat": 4,
 "nbformat_minor": 2
}
